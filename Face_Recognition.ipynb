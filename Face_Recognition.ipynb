{
 "cells": [
  {
   "cell_type": "markdown",
   "id": "c3133516-4cf3-42e3-9f15-0805ed3be364",
   "metadata": {},
   "source": [
    "- [read data](#read-data)\n",
    "- [reshape data](#reshape-data)\n",
    "- [split data](#split-data)\n",
    "- [PCA](#PCA)\n",
    "- [K-Means Clustering](#K-Means-Clustering)\n",
    "- [KNN](#KNN)\n",
    "- [Evaluation](#Evaluation)\n",
    "- [AutoEncoders](#AutoEncoders)\n"
   ]
  },
  {
   "cell_type": "code",
   "execution_count": 2,
   "id": "6082f5ae-2a8f-4c4b-943d-5faac35b1e75",
   "metadata": {},
   "outputs": [],
   "source": [
    "import os\n",
    "import cv2\n",
    "import numpy as np\n",
    "import matplotlib.pyplot as plt\n",
    "from collections import Counter\n",
    "from scipy.optimize import linear_sum_assignment\n",
    "from sklearn.metrics import accuracy_score, precision_score, recall_score, f1_score, confusion_matrix\n",
    "from collections import defaultdict\n",
    "from tensorflow.keras import layers, models\n",
    "from tensorflow.keras.optimizers import Adam\n",
    "import warnings\n",
    "from sklearn.mixture import GaussianMixture"
   ]
  },
  {
   "cell_type": "code",
   "execution_count": 3,
   "id": "3450013d-bab8-4523-bca0-87719462f70b",
   "metadata": {},
   "outputs": [],
   "source": [
    "warnings.filterwarnings('ignore')\n",
    "dataset_path = 'data'"
   ]
  },
  {
   "cell_type": "markdown",
   "id": "2ab12f0f-6537-4358-934a-cc69b9351f9a",
   "metadata": {},
   "source": [
    "## read data"
   ]
  },
  {
   "cell_type": "code",
   "execution_count": 5,
   "id": "2f2cb346-08f3-46f2-b830-a69181f7d505",
   "metadata": {},
   "outputs": [],
   "source": [
    "images = []\n",
    "labels = []\n",
    "\n",
    "for label in range(1, 41):\n",
    "    person_path = os.path.join(dataset_path, f\"s{label}\")\n",
    "    for img_name in os.listdir(person_path):      # return list of the content of the dir like ls -l\n",
    "        img_path = os.path.join(person_path, img_name)\n",
    "        img = cv2.imread(img_path, cv2.IMREAD_GRAYSCALE)\n",
    "        images.append(img)\n",
    "        labels.append(label)   "
   ]
  },
  {
   "cell_type": "code",
   "execution_count": 6,
   "id": "795bcdf8-fff0-47ee-8305-104d3cce3f3b",
   "metadata": {},
   "outputs": [
    {
     "name": "stdout",
     "output_type": "stream",
     "text": [
      "Total images: 400\n",
      "Image shape: (112, 92)\n"
     ]
    }
   ],
   "source": [
    "images = np.array(images)\n",
    "labels = np.array(labels)\n",
    "\n",
    "print(\"Total images:\", len(images))\n",
    "print(\"Image shape:\", images[0].shape) "
   ]
  },
  {
   "cell_type": "markdown",
   "id": "fe5e5e68-b367-460c-910b-78b5b44083d3",
   "metadata": {},
   "source": [
    "## reshape data"
   ]
  },
  {
   "cell_type": "code",
   "execution_count": 8,
   "id": "2aa1c671-f23d-4d78-9b86-bd04799c9f24",
   "metadata": {},
   "outputs": [
    {
     "name": "stdout",
     "output_type": "stream",
     "text": [
      "Image shape: (400, 10304)\n",
      "[[ 48  49  45 ...  47  46  46]\n",
      " [ 34  34  33 ...  37  40  33]\n",
      " [ 60  60  62 ...  32  34  34]\n",
      " ...\n",
      " [129 127 133 ...  93  93  93]\n",
      " [125 119 124 ...  36  39  40]\n",
      " [119 120 120 ...  89  94  85]]\n"
     ]
    }
   ],
   "source": [
    "images = images.reshape(-1,10304)       # Flattens 2D images into 1D vectors for input \n",
    "print(\"Image shape:\", images.shape)\n",
    "print(images)"
   ]
  },
  {
   "cell_type": "markdown",
   "id": "2db699c4-2d63-406e-a464-6989a786bb0a",
   "metadata": {},
   "source": [
    "## split data"
   ]
  },
  {
   "cell_type": "code",
   "execution_count": 10,
   "id": "163c65dc-f1c5-4984-9aca-feb8bf14e58a",
   "metadata": {},
   "outputs": [],
   "source": [
    "images_training = []\n",
    "images_testing = []\n",
    "labels_training = []\n",
    "labels_testing = []\n",
    "\n",
    "for idx in range(400):\n",
    "    if idx%2==0:\n",
    "        images_testing.append(images[idx])\n",
    "        labels_testing.append(labels[idx])\n",
    "    else:\n",
    "        images_training.append(images[idx])\n",
    "        labels_training.append(labels[idx])"
   ]
  },
  {
   "cell_type": "code",
   "execution_count": 11,
   "id": "80566b70-b5d9-44e6-9a00-b08bf50e0ad8",
   "metadata": {},
   "outputs": [
    {
     "name": "stdout",
     "output_type": "stream",
     "text": [
      "Test images: 200\n",
      "Train images: 200\n",
      "Test labels: 200\n",
      "Train labels: 200\n"
     ]
    }
   ],
   "source": [
    "print(\"Test images:\", len(images_testing))\n",
    "print(\"Train images:\", len(images_training))\n",
    "\n",
    "print(\"Test labels:\", len(labels_testing))\n",
    "print(\"Train labels:\", len(labels_training))"
   ]
  },
  {
   "cell_type": "code",
   "execution_count": 12,
   "id": "b99a3f3a-acf4-467b-988d-0619a7af2e64",
   "metadata": {
    "scrolled": true
   },
   "outputs": [
    {
     "name": "stdout",
     "output_type": "stream",
     "text": [
      "[ 1  1  1  1  1  2  2  2  2  2  3  3  3  3  3  4  4  4  4  4  5  5  5  5\n",
      "  5  6  6  6  6  6  7  7  7  7  7  8  8  8  8  8  9  9  9  9  9 10 10 10\n",
      " 10 10 11 11 11 11 11 12 12 12 12 12 13 13 13 13 13 14 14 14 14 14 15 15\n",
      " 15 15 15 16 16 16 16 16 17 17 17 17 17 18 18 18 18 18 19 19 19 19 19 20\n",
      " 20 20 20 20 21 21 21 21 21 22 22 22 22 22 23 23 23 23 23 24 24 24 24 24\n",
      " 25 25 25 25 25 26 26 26 26 26 27 27 27 27 27 28 28 28 28 28 29 29 29 29\n",
      " 29 30 30 30 30 30 31 31 31 31 31 32 32 32 32 32 33 33 33 33 33 34 34 34\n",
      " 34 34 35 35 35 35 35 36 36 36 36 36 37 37 37 37 37 38 38 38 38 38 39 39\n",
      " 39 39 39 40 40 40 40 40]\n",
      "[ 1  1  1  1  1  2  2  2  2  2  3  3  3  3  3  4  4  4  4  4  5  5  5  5\n",
      "  5  6  6  6  6  6  7  7  7  7  7  8  8  8  8  8  9  9  9  9  9 10 10 10\n",
      " 10 10 11 11 11 11 11 12 12 12 12 12 13 13 13 13 13 14 14 14 14 14 15 15\n",
      " 15 15 15 16 16 16 16 16 17 17 17 17 17 18 18 18 18 18 19 19 19 19 19 20\n",
      " 20 20 20 20 21 21 21 21 21 22 22 22 22 22 23 23 23 23 23 24 24 24 24 24\n",
      " 25 25 25 25 25 26 26 26 26 26 27 27 27 27 27 28 28 28 28 28 29 29 29 29\n",
      " 29 30 30 30 30 30 31 31 31 31 31 32 32 32 32 32 33 33 33 33 33 34 34 34\n",
      " 34 34 35 35 35 35 35 36 36 36 36 36 37 37 37 37 37 38 38 38 38 38 39 39\n",
      " 39 39 39 40 40 40 40 40]\n"
     ]
    }
   ],
   "source": [
    "images_testing = np.array(images_testing)\n",
    "images_training = np.array(images_training)\n",
    "\n",
    "labels_testing = np.array(labels_testing)\n",
    "labels_training = np.array(labels_training)\n",
    "print(labels_testing)\n",
    "print(labels_training)"
   ]
  },
  {
   "cell_type": "code",
   "execution_count": 13,
   "id": "b970adc2-15c1-45ca-932b-8e403d05e185",
   "metadata": {},
   "outputs": [],
   "source": [
    "images_training = images_training / 255.0\n",
    "images_testing = images_testing / 255.0"
   ]
  },
  {
   "cell_type": "code",
   "execution_count": 14,
   "id": "f12f92d7-8106-42b7-bca4-ee649c626a00",
   "metadata": {},
   "outputs": [],
   "source": [
    "def euclidean_distance(x1, x2):\n",
    "    return np.linalg.norm(x2 - x1, axis=1)"
   ]
  },
  {
   "cell_type": "markdown",
   "id": "9d01f32c-1bf9-4c3a-a049-f98ccfd05c91",
   "metadata": {},
   "source": [
    "## PCA"
   ]
  },
  {
   "cell_type": "code",
   "execution_count": 16,
   "id": "85357a92-33d0-4323-9281-b8d6ba1b40e4",
   "metadata": {},
   "outputs": [],
   "source": [
    "def calc_eigen(Data_centered):\n",
    "    cov_matrix = np.cov(Data_centered, rowvar=False)\n",
    "    eig_vals, eig_vecs = np.linalg.eigh(cov_matrix)\n",
    "    np.save(\"eigenvalues.npy\", eig_vals)\n",
    "    np.save(\"eigenvectors.npy\", eig_vecs)\n",
    "    \n",
    "class PCA:\n",
    "    def __init__(self):\n",
    "        self.variance_threshold = None\n",
    "        self.mean = None\n",
    "        self.components = None\n",
    "        self.explained_variance = None\n",
    "\n",
    "    def fit(self, X):\n",
    "        self.mean = np.mean(X, axis=0)\n",
    "        X_centered = X - self.mean\n",
    "\n",
    "        # calc_eigen(X_centered)\n",
    "        eig_vals = np.load('eigenvalues.npy')\n",
    "        eig_vecs = np.load('eigenvectors.npy')\n",
    "        \n",
    "        sorted_idx = np.argsort(eig_vals)[::-1]\n",
    "        eig_vals = eig_vals[sorted_idx]\n",
    "        eig_vecs = eig_vecs[:, sorted_idx]\n",
    "\n",
    "        explained_variance_ratio = eig_vals / np.sum(eig_vals)     # the ratio of each direction var\n",
    "        cum_var = np.cumsum(explained_variance_ratio)        # explained_variance_ratio = [0.4, 0.3, 0.2, 0.1]  \n",
    "                                                                         # cumulative_variance = [0.4, 0.7, 0.9, 1]\n",
    "        \n",
    "        num_components = np.argmax(cum_var >= self.variance_threshold) + 1         # returns the first index where the cumulative variance ≥ alpha.\n",
    "        \n",
    "        self.components = eig_vecs[:, :num_components]       # Selects all rows, col[0:num_components]  \n",
    "        self.explained_variance = eig_vals[:num_components]\n",
    "\n",
    "    def transform(self, X):\n",
    "        X_centered = X - self.mean\n",
    "        return np.dot(X_centered, self.components)\n",
    "\n",
    "    def fit_transform(self, X, variance_threshold):\n",
    "        self.variance_threshold = variance_threshold\n",
    "        self.fit(X)\n",
    "        return self.transform(X)\n"
   ]
  },
  {
   "cell_type": "code",
   "execution_count": 17,
   "id": "bd44a516-4a56-4102-8f8c-4607b34c0f83",
   "metadata": {},
   "outputs": [
    {
     "name": "stdout",
     "output_type": "stream",
     "text": [
      "Original shape: (200, 10304)\n",
      "Alpha: 0.8 Reduced shape: (200, 36)\n",
      "Alpha: 0.85 Reduced shape: (200, 52)\n",
      "Alpha: 0.9 Reduced shape: (200, 76)\n",
      "Alpha: 0.95 Reduced shape: (200, 117)\n"
     ]
    }
   ],
   "source": [
    "alphas = [0.8, 0.85, 0.9, 0.95]\n",
    "pca = PCA()\n",
    "D_pcas={}\n",
    "print(f\"Original shape: {images_training.shape}\")\n",
    "\n",
    "for alpha in alphas:\n",
    "    D_pca = pca.fit_transform(images_training, alpha)\n",
    "    D_pcas[alpha] = D_pca\n",
    "    print(f\"Alpha: {alpha} Reduced shape: {D_pca.shape}\")\n"
   ]
  },
  {
   "cell_type": "markdown",
   "id": "764e6c5c-01d5-400a-b039-f5ad7182131a",
   "metadata": {},
   "source": [
    "## K-Means Clustering"
   ]
  },
  {
   "cell_type": "code",
   "execution_count": 19,
   "id": "1fb6ca48-c12a-4012-8b55-dd81e3a40147",
   "metadata": {},
   "outputs": [],
   "source": [
    "def initialize_centroids(X, k):\n",
    "    np.random.seed(0)\n",
    "    indices = np.random.choice(len(X), size=k, replace=False)\n",
    "    return X[indices]\n",
    "\n",
    "def assign_clusters(X, centroids):\n",
    "    clusters = defaultdict(list)\n",
    "    for idx, x in enumerate(X):\n",
    "        distances = np.linalg.norm(x - centroids, axis=1)\n",
    "        closest = np.argmin(distances)\n",
    "        clusters[closest].append(idx)\n",
    "    return clusters\n",
    "\n",
    "def update_centroids(X, clusters, k):\n",
    "    new_centroids = np.zeros((k, X.shape[1]))\n",
    "    for i in range(k):\n",
    "        if clusters[i]:\n",
    "            new_centroids[i] = np.mean(X[clusters[i]], axis=0)\n",
    "        else:\n",
    "            new_centroids[i] = X[np.random.randint(0, len(X))]\n",
    "    return new_centroids\n",
    "\n",
    "def kmeans(X, k, max_iters=100, tol=1e-4):\n",
    "    centroids = initialize_centroids(X, k)\n",
    "    for _ in range(max_iters):\n",
    "        clusters = assign_clusters(X, centroids)\n",
    "        new_centroids = update_centroids(X, clusters, k)\n",
    "        diff = np.linalg.norm(new_centroids - centroids)\n",
    "        if diff < tol:\n",
    "            break\n",
    "        centroids = new_centroids\n",
    "    labels = np.zeros(len(X), dtype=int)\n",
    "    for cluster_idx, sample_indices in clusters.items():\n",
    "        for sample_index in sample_indices:\n",
    "            labels[sample_index] = cluster_idx\n",
    "    return labels, centroids\n",
    "\n",
    "def clustering_accuracy(true_labels, pred_labels, n_classes=40):\n",
    "    cost_matrix = np.zeros((n_classes, n_classes), dtype=int)\n",
    "    for i in range(n_classes):\n",
    "        for j in range(n_classes):\n",
    "            cost_matrix[i][j] = np.sum((true_labels == i + 1) & (pred_labels == j))\n",
    "    row_ind, col_ind = linear_sum_assignment(-cost_matrix)\n",
    "    total_correct = cost_matrix[row_ind, col_ind].sum()\n",
    "    return total_correct / len(true_labels)"
   ]
  },
  {
   "cell_type": "code",
   "execution_count": 63,
   "id": "4dc0890d-e258-4823-8c44-e6acb5f0b969",
   "metadata": {},
   "outputs": [
    {
     "name": "stdout",
     "output_type": "stream",
     "text": [
      "alpha=0.8, K=20, accuracy=0.3150\n",
      "alpha=0.8, K=40, accuracy=0.6750\n",
      "alpha=0.8, K=60, accuracy=0.6950\n",
      "alpha=0.85, K=20, accuracy=0.2950\n",
      "alpha=0.85, K=40, accuracy=0.6550\n",
      "alpha=0.85, K=60, accuracy=0.6850\n",
      "alpha=0.9, K=20, accuracy=0.3200\n",
      "alpha=0.9, K=40, accuracy=0.6700\n",
      "alpha=0.9, K=60, accuracy=0.6700\n",
      "alpha=0.95, K=20, accuracy=0.3050\n",
      "alpha=0.95, K=40, accuracy=0.6700\n",
      "alpha=0.95, K=60, accuracy=0.6500\n"
     ]
    }
   ],
   "source": [
    "alphas = [0.8, 0.85, 0.9, 0.95]\n",
    "K_values = [20, 40, 60]\n",
    "results = {}\n",
    "\n",
    "for alpha in alphas:\n",
    "    reduced_data = D_pcas[alpha]\n",
    "    results[alpha] = {}\n",
    "    for K in K_values:\n",
    "        pred_labels, centroids = kmeans(reduced_data, k=K)\n",
    "        acc = clustering_accuracy(labels_training, pred_labels, n_classes=K)\n",
    "        results[alpha][K] = acc\n",
    "        print(f\"alpha={alpha}, K={K}, accuracy={acc:.4f}\")"
   ]
  },
  {
   "cell_type": "code",
   "execution_count": 65,
   "id": "9309ce88-0b4e-493e-b7b6-7bbce3983fa7",
   "metadata": {},
   "outputs": [
    {
     "name": "stdout",
     "output_type": "stream",
     "text": [
      "\n",
      "Accuracy Table:\n",
      " α    |   K=20   |   K=40   |   K=60  \n",
      "--------------------------------------\n",
      "0.80  |  0.3150  |  0.6750  |  0.6950  |\n",
      "0.85  |  0.2950  |  0.6550  |  0.6850  |\n",
      "0.90  |  0.3200  |  0.6700  |  0.6700  |\n",
      "0.95  |  0.3050  |  0.6700  |  0.6500  |\n"
     ]
    }
   ],
   "source": [
    "print(\"\\nAccuracy Table:\")\n",
    "print(\" α    |   K=20   |   K=40   |   K=60  \")\n",
    "print(\"--------------------------------------\")\n",
    "for alpha in alphas:\n",
    "    row = f\"{alpha:.2f}  |\"\n",
    "    for K in K_values:\n",
    "        row += f\"  {results[alpha][K]:.4f}  |\"\n",
    "    print(row)\n"
   ]
  },
  {
   "cell_type": "code",
   "execution_count": 67,
   "id": "a388c010-56d7-4d51-b84c-f85aaa514657",
   "metadata": {},
   "outputs": [
    {
     "data": {
      "image/png": "[encoded data removed]",
      "text/plain": [
       "<Figure size 640x480 with 1 Axes>"
      ]
     },
     "metadata": {},
     "output_type": "display_data"
    }
   ],
   "source": [
    "fixed_k = 60\n",
    "alphas = [0.8, 0.85, 0.9, 0.95]\n",
    "accs = [results[a][fixed_k] for a in alphas]\n",
    "\n",
    "plt.plot(alphas, accs, marker='o')\n",
    "plt.xlabel('PCA Variance Retained (α)')\n",
    "plt.ylabel('Clustering Accuracy')\n",
    "plt.title('Accuracy vs. PCA Variance (α) for K=60')\n",
    "plt.grid(True)\n",
    "plt.show()\n"
   ]
  },
  {
   "cell_type": "code",
   "execution_count": 69,
   "id": "5cbd8018-8c31-422f-9cdf-80764c6cf52a",
   "metadata": {},
   "outputs": [
    {
     "data": {
      "image/png": "[encoded data removed]",
      "text/plain": [
       "<Figure size 640x480 with 1 Axes>"
      ]
     },
     "metadata": {},
     "output_type": "display_data"
    }
   ],
   "source": [
    "fixed_alpha = 0.8\n",
    "ks = [20, 40, 60]\n",
    "accs = [results[fixed_alpha][k] for k in ks]\n",
    "\n",
    "plt.plot(ks, accs, marker='s')\n",
    "plt.xlabel('Number of Clusters (K)')\n",
    "plt.ylabel('Clustering Accuracy')\n",
    "plt.title('Accuracy vs. K for α=0.8')\n",
    "plt.grid(True)\n",
    "plt.show()\n"
   ]
  },
  {
   "cell_type": "markdown",
   "id": "8d57a11c-5231-4556-81f3-8405f87aef71",
   "metadata": {},
   "source": [
    "## KNN"
   ]
  },
  {
   "cell_type": "code",
   "execution_count": 25,
   "id": "1619d846-f5aa-4957-b346-eba8ff34507f",
   "metadata": {},
   "outputs": [],
   "source": [
    "def euclidean_distance1(x1, x2):\n",
    "    return np.sqrt(np.sum((x1 - x2)**2))\n",
    "class KNN:\n",
    "    def __init__(self, images_training, labels_training, k):\n",
    "        self.images_training = images_training\n",
    "        self.labels_training = labels_training\n",
    "        self.k = k\n",
    "    \n",
    "    def predict(self, imgs):\n",
    "        predictions = [self._predict(img) for img in imgs]\n",
    "        return np.array(predictions)\n",
    "        \n",
    "    def _predict(self, img):\n",
    "        distances = [euclidean_distance1(img, img_train) for img_train in self.images_training]\n",
    "        k_indicies = np.argsort(distances)[:self.k]             # return indicies of sorted array [4, 1, 3, 2] -> [1, 3, 2, 0]\n",
    "        k_nearest_labels = [self.labels_training[i] for i in k_indicies]\n",
    "        most_common = Counter(k_nearest_labels).most_common()\n",
    "        most_common = np.array(most_common)\n",
    "        return most_common[0][0]\n"
   ]
  },
  {
   "cell_type": "code",
   "execution_count": 26,
   "id": "86a1d1a5-d220-491f-80bc-035cbccaf514",
   "metadata": {},
   "outputs": [],
   "source": [
    "best_alpha = 0.85\n",
    "X_best = D_pcas[best_alpha]\n",
    "\n",
    "pca = PCA()\n",
    "X_test = pca.fit_transform(images_testing, best_alpha)"
   ]
  },
  {
   "cell_type": "code",
   "execution_count": 27,
   "id": "89467510-ffae-4101-a5ef-20de27d647e2",
   "metadata": {},
   "outputs": [],
   "source": [
    "K = [5, 7, 9, 11]\n",
    "results = []\n",
    "for k in K:\n",
    "    Knn = KNN(X_best, labels_training, k)\n",
    "    y_pred = Knn.predict(X_test)\n",
    "    accuracy = accuracy_score(labels_testing, y_pred)\n",
    "    precision = precision_score(labels_testing, y_pred, average='macro')\n",
    "    recall = recall_score(labels_testing, y_pred, average='macro')\n",
    "    f1 = f1_score(labels_testing, y_pred, average='macro')\n",
    "    cm = confusion_matrix(labels_testing, y_pred)\n",
    "    results.append({\n",
    "        'k': k,\n",
    "        'accuracy': accuracy,\n",
    "        'precision': precision,\n",
    "        'recall': recall,\n",
    "        'f1_score': f1,\n",
    "        'confusion_matrix': cm,\n",
    "    })"
   ]
  },
  {
   "cell_type": "code",
   "execution_count": 28,
   "id": "3a00d01f-86ed-4239-bf3a-088eb476618d",
   "metadata": {},
   "outputs": [
    {
     "name": "stdout",
     "output_type": "stream",
     "text": [
      "k = 5\n",
      "Accuracy: 0.8600\n",
      "k = 7\n",
      "Accuracy: 0.8250\n",
      "k = 9\n",
      "Accuracy: 0.7850\n",
      "k = 11\n",
      "Accuracy: 0.7750\n"
     ]
    }
   ],
   "source": [
    "for result in results:\n",
    "    print(f\"k = {result['k']}\")\n",
    "    print(f\"Accuracy: {result['accuracy']:.4f}\")"
   ]
  },
  {
   "cell_type": "markdown",
   "id": "4de976d5-ec15-42ab-ab59-ce376d9d41d9",
   "metadata": {},
   "source": [
    "## Evaluation"
   ]
  },
  {
   "cell_type": "code",
   "execution_count": 30,
   "id": "550fee73-6697-4c53-bc12-412ddfa72511",
   "metadata": {},
   "outputs": [
    {
     "name": "stdout",
     "output_type": "stream",
     "text": [
      "k = 5\n",
      "Accuracy: 0.8600\n",
      "Precision: 0.8570\n",
      "Recall: 0.8600\n",
      "F1-Score: 0.8466\n",
      "Confusion Matrix:\n",
      "[[3 0 0 ... 0 0 0]\n",
      " [0 5 0 ... 0 0 0]\n",
      " [0 0 5 ... 0 0 0]\n",
      " ...\n",
      " [0 0 0 ... 5 0 0]\n",
      " [0 0 0 ... 0 5 0]\n",
      " [0 0 0 ... 0 0 3]]\n",
      "\n",
      "\n"
     ]
    }
   ],
   "source": [
    "best_k = 5\n",
    "for result in results:\n",
    "    if result['k'] == best_k:\n",
    "        print(f\"k = {result['k']}\")\n",
    "        print(f\"Accuracy: {result['accuracy']:.4f}\")\n",
    "        print(f\"Precision: {result['precision']:.4f}\")\n",
    "        print(f\"Recall: {result['recall']:.4f}\")\n",
    "        print(f\"F1-Score: {result['f1_score']:.4f}\")\n",
    "        print(\"Confusion Matrix:\")\n",
    "        print(result['confusion_matrix'])\n",
    "        print(\"\\n\")"
   ]
  },
  {
   "cell_type": "markdown",
   "id": "89133d30-2c84-4baf-af97-9aa3598bfe6f",
   "metadata": {},
   "source": [
    "## AutoEncoders"
   ]
  },
  {
   "cell_type": "code",
   "execution_count": 32,
   "id": "db389ea5-79ac-44e3-98ac-31b4dfa2ad37",
   "metadata": {},
   "outputs": [],
   "source": [
    "input_img = layers.Input(shape=(10304,))\n",
    "\n",
    "encoded = layers.Dense(1024, activation='relu')(input_img)\n",
    "encoded = layers.Dense(512, activation='relu')(encoded)\n",
    "encoded = layers.Dense(256, activation='relu')(encoded)\n",
    "encoded = layers.Dense(128, activation='relu')(encoded)\n",
    "\n",
    "decoded = layers.Dense(256, activation='relu')(encoded)\n",
    "decoded = layers.Dense(512, activation='relu')(decoded)\n",
    "decoded = layers.Dense(1024, activation='relu')(decoded)\n",
    "decoded = layers.Dense(10304, activation='sigmoid')(decoded)"
   ]
  },
  {
   "cell_type": "code",
   "execution_count": 33,
   "id": "5a41a72c-cb72-45eb-9ab0-4268513eed9d",
   "metadata": {},
   "outputs": [],
   "source": [
    "autoencoder = models.Model(input_img, decoded)\n",
    "autoencoder.compile(optimizer=Adam(learning_rate=1e-3), loss='mse')"
   ]
  },
  {
   "cell_type": "code",
   "execution_count": 34,
   "id": "99675d24-b099-4495-9929-ad19772c1396",
   "metadata": {
    "scrolled": true
   },
   "outputs": [
    {
     "name": "stdout",
     "output_type": "stream",
     "text": [
      "Epoch 1/50\n",
      "\u001b[1m7/7\u001b[0m \u001b[32m━━━━━━━━━━━━━━━━━━━━\u001b[0m\u001b[37m\u001b[0m \u001b[1m9s\u001b[0m 350ms/step - loss: 0.0374 - val_loss: 0.0253\n",
      "Epoch 2/50\n",
      "\u001b[1m7/7\u001b[0m \u001b[32m━━━━━━━━━━━━━━━━━━━━\u001b[0m\u001b[37m\u001b[0m \u001b[1m2s\u001b[0m 273ms/step - loss: 0.0256 - val_loss: 0.0245\n",
      "Epoch 3/50\n",
      "\u001b[1m7/7\u001b[0m \u001b[32m━━━━━━━━━━━━━━━━━━━━\u001b[0m\u001b[37m\u001b[0m \u001b[1m2s\u001b[0m 271ms/step - loss: 0.0243 - val_loss: 0.0233\n",
      "Epoch 4/50\n",
      "\u001b[1m7/7\u001b[0m \u001b[32m━━━━━━━━━━━━━━━━━━━━\u001b[0m\u001b[37m\u001b[0m \u001b[1m2s\u001b[0m 282ms/step - loss: 0.0233 - val_loss: 0.0232\n",
      "Epoch 5/50\n",
      "\u001b[1m7/7\u001b[0m \u001b[32m━━━━━━━━━━━━━━━━━━━━\u001b[0m\u001b[37m\u001b[0m \u001b[1m2s\u001b[0m 275ms/step - loss: 0.0230 - val_loss: 0.0231\n",
      "Epoch 6/50\n",
      "\u001b[1m7/7\u001b[0m \u001b[32m━━━━━━━━━━━━━━━━━━━━\u001b[0m\u001b[37m\u001b[0m \u001b[1m2s\u001b[0m 281ms/step - loss: 0.0230 - val_loss: 0.0234\n",
      "Epoch 7/50\n",
      "\u001b[1m7/7\u001b[0m \u001b[32m━━━━━━━━━━━━━━━━━━━━\u001b[0m\u001b[37m\u001b[0m \u001b[1m2s\u001b[0m 278ms/step - loss: 0.0231 - val_loss: 0.0227\n",
      "Epoch 8/50\n",
      "\u001b[1m7/7\u001b[0m \u001b[32m━━━━━━━━━━━━━━━━━━━━\u001b[0m\u001b[37m\u001b[0m \u001b[1m2s\u001b[0m 279ms/step - loss: 0.0218 - val_loss: 0.0216\n",
      "Epoch 9/50\n",
      "\u001b[1m7/7\u001b[0m \u001b[32m━━━━━━━━━━━━━━━━━━━━\u001b[0m\u001b[37m\u001b[0m \u001b[1m2s\u001b[0m 275ms/step - loss: 0.0211 - val_loss: 0.0194\n",
      "Epoch 10/50\n",
      "\u001b[1m7/7\u001b[0m \u001b[32m━━━━━━━━━━━━━━━━━━━━\u001b[0m\u001b[37m\u001b[0m \u001b[1m2s\u001b[0m 275ms/step - loss: 0.0201 - val_loss: 0.0204\n",
      "Epoch 11/50\n",
      "\u001b[1m7/7\u001b[0m \u001b[32m━━━━━━━━━━━━━━━━━━━━\u001b[0m\u001b[37m\u001b[0m \u001b[1m2s\u001b[0m 280ms/step - loss: 0.0194 - val_loss: 0.0196\n",
      "Epoch 12/50\n",
      "\u001b[1m7/7\u001b[0m \u001b[32m━━━━━━━━━━━━━━━━━━━━\u001b[0m\u001b[37m\u001b[0m \u001b[1m2s\u001b[0m 278ms/step - loss: 0.0183 - val_loss: 0.0183\n",
      "Epoch 13/50\n",
      "\u001b[1m7/7\u001b[0m \u001b[32m━━━━━━━━━━━━━━━━━━━━\u001b[0m\u001b[37m\u001b[0m \u001b[1m2s\u001b[0m 285ms/step - loss: 0.0170 - val_loss: 0.0176\n",
      "Epoch 14/50\n",
      "\u001b[1m7/7\u001b[0m \u001b[32m━━━━━━━━━━━━━━━━━━━━\u001b[0m\u001b[37m\u001b[0m \u001b[1m2s\u001b[0m 277ms/step - loss: 0.0170 - val_loss: 0.0167\n",
      "Epoch 15/50\n",
      "\u001b[1m7/7\u001b[0m \u001b[32m━━━━━━━━━━━━━━━━━━━━\u001b[0m\u001b[37m\u001b[0m \u001b[1m2s\u001b[0m 278ms/step - loss: 0.0164 - val_loss: 0.0172\n",
      "Epoch 16/50\n",
      "\u001b[1m7/7\u001b[0m \u001b[32m━━━━━━━━━━━━━━━━━━━━\u001b[0m\u001b[37m\u001b[0m \u001b[1m2s\u001b[0m 277ms/step - loss: 0.0162 - val_loss: 0.0162\n",
      "Epoch 17/50\n",
      "\u001b[1m7/7\u001b[0m \u001b[32m━━━━━━━━━━━━━━━━━━━━\u001b[0m\u001b[37m\u001b[0m \u001b[1m2s\u001b[0m 281ms/step - loss: 0.0155 - val_loss: 0.0162\n",
      "Epoch 18/50\n",
      "\u001b[1m7/7\u001b[0m \u001b[32m━━━━━━━━━━━━━━━━━━━━\u001b[0m\u001b[37m\u001b[0m \u001b[1m2s\u001b[0m 285ms/step - loss: 0.0153 - val_loss: 0.0160\n",
      "Epoch 19/50\n",
      "\u001b[1m7/7\u001b[0m \u001b[32m━━━━━━━━━━━━━━━━━━━━\u001b[0m\u001b[37m\u001b[0m \u001b[1m2s\u001b[0m 278ms/step - loss: 0.0151 - val_loss: 0.0159\n",
      "Epoch 20/50\n",
      "\u001b[1m7/7\u001b[0m \u001b[32m━━━━━━━━━━━━━━━━━━━━\u001b[0m\u001b[37m\u001b[0m \u001b[1m2s\u001b[0m 276ms/step - loss: 0.0148 - val_loss: 0.0157\n",
      "Epoch 21/50\n",
      "\u001b[1m7/7\u001b[0m \u001b[32m━━━━━━━━━━━━━━━━━━━━\u001b[0m\u001b[37m\u001b[0m \u001b[1m2s\u001b[0m 282ms/step - loss: 0.0145 - val_loss: 0.0156\n",
      "Epoch 22/50\n",
      "\u001b[1m7/7\u001b[0m \u001b[32m━━━━━━━━━━━━━━━━━━━━\u001b[0m\u001b[37m\u001b[0m \u001b[1m2s\u001b[0m 281ms/step - loss: 0.0146 - val_loss: 0.0157\n",
      "Epoch 23/50\n",
      "\u001b[1m7/7\u001b[0m \u001b[32m━━━━━━━━━━━━━━━━━━━━\u001b[0m\u001b[37m\u001b[0m \u001b[1m2s\u001b[0m 278ms/step - loss: 0.0146 - val_loss: 0.0152\n",
      "Epoch 24/50\n",
      "\u001b[1m7/7\u001b[0m \u001b[32m━━━━━━━━━━━━━━━━━━━━\u001b[0m\u001b[37m\u001b[0m \u001b[1m2s\u001b[0m 277ms/step - loss: 0.0142 - val_loss: 0.0157\n",
      "Epoch 25/50\n",
      "\u001b[1m7/7\u001b[0m \u001b[32m━━━━━━━━━━━━━━━━━━━━\u001b[0m\u001b[37m\u001b[0m \u001b[1m2s\u001b[0m 280ms/step - loss: 0.0140 - val_loss: 0.0157\n",
      "Epoch 26/50\n",
      "\u001b[1m7/7\u001b[0m \u001b[32m━━━━━━━━━━━━━━━━━━━━\u001b[0m\u001b[37m\u001b[0m \u001b[1m2s\u001b[0m 282ms/step - loss: 0.0141 - val_loss: 0.0149\n",
      "Epoch 27/50\n",
      "\u001b[1m7/7\u001b[0m \u001b[32m━━━━━━━━━━━━━━━━━━━━\u001b[0m\u001b[37m\u001b[0m \u001b[1m2s\u001b[0m 277ms/step - loss: 0.0134 - val_loss: 0.0145\n",
      "Epoch 28/50\n",
      "\u001b[1m7/7\u001b[0m \u001b[32m━━━━━━━━━━━━━━━━━━━━\u001b[0m\u001b[37m\u001b[0m \u001b[1m2s\u001b[0m 277ms/step - loss: 0.0131 - val_loss: 0.0144\n",
      "Epoch 29/50\n",
      "\u001b[1m7/7\u001b[0m \u001b[32m━━━━━━━━━━━━━━━━━━━━\u001b[0m\u001b[37m\u001b[0m \u001b[1m2s\u001b[0m 287ms/step - loss: 0.0130 - val_loss: 0.0140\n",
      "Epoch 30/50\n",
      "\u001b[1m7/7\u001b[0m \u001b[32m━━━━━━━━━━━━━━━━━━━━\u001b[0m\u001b[37m\u001b[0m \u001b[1m2s\u001b[0m 281ms/step - loss: 0.0127 - val_loss: 0.0140\n",
      "Epoch 31/50\n",
      "\u001b[1m7/7\u001b[0m \u001b[32m━━━━━━━━━━━━━━━━━━━━\u001b[0m\u001b[37m\u001b[0m \u001b[1m2s\u001b[0m 278ms/step - loss: 0.0122 - val_loss: 0.0136\n",
      "Epoch 32/50\n",
      "\u001b[1m7/7\u001b[0m \u001b[32m━━━━━━━━━━━━━━━━━━━━\u001b[0m\u001b[37m\u001b[0m \u001b[1m2s\u001b[0m 283ms/step - loss: 0.0119 - val_loss: 0.0134\n",
      "Epoch 33/50\n",
      "\u001b[1m7/7\u001b[0m \u001b[32m━━━━━━━━━━━━━━━━━━━━\u001b[0m\u001b[37m\u001b[0m \u001b[1m2s\u001b[0m 279ms/step - loss: 0.0118 - val_loss: 0.0140\n",
      "Epoch 34/50\n",
      "\u001b[1m7/7\u001b[0m \u001b[32m━━━━━━━━━━━━━━━━━━━━\u001b[0m\u001b[37m\u001b[0m \u001b[1m2s\u001b[0m 281ms/step - loss: 0.0122 - val_loss: 0.0135\n",
      "Epoch 35/50\n",
      "\u001b[1m7/7\u001b[0m \u001b[32m━━━━━━━━━━━━━━━━━━━━\u001b[0m\u001b[37m\u001b[0m \u001b[1m2s\u001b[0m 278ms/step - loss: 0.0117 - val_loss: 0.0133\n",
      "Epoch 36/50\n",
      "\u001b[1m7/7\u001b[0m \u001b[32m━━━━━━━━━━━━━━━━━━━━\u001b[0m\u001b[37m\u001b[0m \u001b[1m2s\u001b[0m 283ms/step - loss: 0.0115 - val_loss: 0.0130\n",
      "Epoch 37/50\n",
      "\u001b[1m7/7\u001b[0m \u001b[32m━━━━━━━━━━━━━━━━━━━━\u001b[0m\u001b[37m\u001b[0m \u001b[1m2s\u001b[0m 302ms/step - loss: 0.0113 - val_loss: 0.0141\n",
      "Epoch 38/50\n",
      "\u001b[1m7/7\u001b[0m \u001b[32m━━━━━━━━━━━━━━━━━━━━\u001b[0m\u001b[37m\u001b[0m \u001b[1m2s\u001b[0m 297ms/step - loss: 0.0116 - val_loss: 0.0138\n",
      "Epoch 39/50\n",
      "\u001b[1m7/7\u001b[0m \u001b[32m━━━━━━━━━━━━━━━━━━━━\u001b[0m\u001b[37m\u001b[0m \u001b[1m2s\u001b[0m 316ms/step - loss: 0.0117 - val_loss: 0.0132\n",
      "Epoch 40/50\n",
      "\u001b[1m7/7\u001b[0m \u001b[32m━━━━━━━━━━━━━━━━━━━━\u001b[0m\u001b[37m\u001b[0m \u001b[1m2s\u001b[0m 291ms/step - loss: 0.0109 - val_loss: 0.0131\n",
      "Epoch 41/50\n",
      "\u001b[1m7/7\u001b[0m \u001b[32m━━━━━━━━━━━━━━━━━━━━\u001b[0m\u001b[37m\u001b[0m \u001b[1m2s\u001b[0m 280ms/step - loss: 0.0107 - val_loss: 0.0137\n",
      "Epoch 42/50\n",
      "\u001b[1m7/7\u001b[0m \u001b[32m━━━━━━━━━━━━━━━━━━━━\u001b[0m\u001b[37m\u001b[0m \u001b[1m2s\u001b[0m 281ms/step - loss: 0.0111 - val_loss: 0.0130\n",
      "Epoch 43/50\n",
      "\u001b[1m7/7\u001b[0m \u001b[32m━━━━━━━━━━━━━━━━━━━━\u001b[0m\u001b[37m\u001b[0m \u001b[1m2s\u001b[0m 299ms/step - loss: 0.0106 - val_loss: 0.0134\n",
      "Epoch 44/50\n",
      "\u001b[1m7/7\u001b[0m \u001b[32m━━━━━━━━━━━━━━━━━━━━\u001b[0m\u001b[37m\u001b[0m \u001b[1m2s\u001b[0m 294ms/step - loss: 0.0106 - val_loss: 0.0131\n",
      "Epoch 45/50\n",
      "\u001b[1m7/7\u001b[0m \u001b[32m━━━━━━━━━━━━━━━━━━━━\u001b[0m\u001b[37m\u001b[0m \u001b[1m2s\u001b[0m 301ms/step - loss: 0.0108 - val_loss: 0.0131\n",
      "Epoch 46/50\n",
      "\u001b[1m7/7\u001b[0m \u001b[32m━━━━━━━━━━━━━━━━━━━━\u001b[0m\u001b[37m\u001b[0m \u001b[1m2s\u001b[0m 289ms/step - loss: 0.0101 - val_loss: 0.0127\n",
      "Epoch 47/50\n",
      "\u001b[1m7/7\u001b[0m \u001b[32m━━━━━━━━━━━━━━━━━━━━\u001b[0m\u001b[37m\u001b[0m \u001b[1m2s\u001b[0m 284ms/step - loss: 0.0099 - val_loss: 0.0126\n",
      "Epoch 48/50\n",
      "\u001b[1m7/7\u001b[0m \u001b[32m━━━━━━━━━━━━━━━━━━━━\u001b[0m\u001b[37m\u001b[0m \u001b[1m2s\u001b[0m 285ms/step - loss: 0.0096 - val_loss: 0.0128\n",
      "Epoch 49/50\n",
      "\u001b[1m7/7\u001b[0m \u001b[32m━━━━━━━━━━━━━━━━━━━━\u001b[0m\u001b[37m\u001b[0m \u001b[1m2s\u001b[0m 296ms/step - loss: 0.0097 - val_loss: 0.0127\n",
      "Epoch 50/50\n",
      "\u001b[1m7/7\u001b[0m \u001b[32m━━━━━━━━━━━━━━━━━━━━\u001b[0m\u001b[37m\u001b[0m \u001b[1m2s\u001b[0m 285ms/step - loss: 0.0092 - val_loss: 0.0120\n",
      "\u001b[1m7/7\u001b[0m \u001b[32m━━━━━━━━━━━━━━━━━━━━\u001b[0m\u001b[37m\u001b[0m \u001b[1m0s\u001b[0m 25ms/step\n",
      "\u001b[1m7/7\u001b[0m \u001b[32m━━━━━━━━━━━━━━━━━━━━\u001b[0m\u001b[37m\u001b[0m \u001b[1m0s\u001b[0m 11ms/step\n"
     ]
    }
   ],
   "source": [
    "autoencoder.fit(images_training, images_training,\n",
    "                epochs=50,\n",
    "                batch_size=32,\n",
    "                shuffle=True,\n",
    "                validation_data=(images_testing, images_testing))\n",
    "\n",
    "encoder = models.Model(input_img, encoded)\n",
    "X_train_encoded = encoder.predict(images_training)\n",
    "X_test_encoded = encoder.predict(images_testing)"
   ]
  },
  {
   "cell_type": "code",
   "execution_count": 35,
   "id": "beaa2a76-bc8e-453c-a86b-52d17c71dbb2",
   "metadata": {},
   "outputs": [
    {
     "name": "stdout",
     "output_type": "stream",
     "text": [
      "K=20 => Accuracy = 0.2850\n",
      "K=40 => Accuracy = 0.6100\n",
      "K=60 => Accuracy = 0.6100\n"
     ]
    }
   ],
   "source": [
    "K_values = [20, 40, 60]\n",
    "for K in K_values:\n",
    "    pred_labels, centroids = kmeans(X_train_encoded, k=K)\n",
    "    acc = clustering_accuracy(labels_training, pred_labels, n_classes=K)\n",
    "    print(f\"K={K} => Accuracy = {acc:.4f}\")"
   ]
  },
  {
   "cell_type": "code",
   "execution_count": 36,
   "id": "1efe3c18-a423-420f-b43b-f9ea070c4fc1",
   "metadata": {},
   "outputs": [
    {
     "name": "stdout",
     "output_type": "stream",
     "text": [
      "Autoencoder + GMM Accuracy: 0.635\n",
      "PCA + GMM Accuracy: 0.78\n"
     ]
    }
   ],
   "source": [
    "gmm = GaussianMixture(n_components=40, covariance_type='full', n_init=5, random_state=42)\n",
    "y_pred_auto = gmm.fit_predict(X_train_encoded)\n",
    "\n",
    "gmm = GaussianMixture(n_components=40, covariance_type='full', n_init=5, random_state=42)\n",
    "y_pred_pca = gmm.fit_predict(D_pcas[fixed_alpha])\n",
    "\n",
    "acc_gmm = clustering_accuracy(labels_training, y_pred_auto)\n",
    "print(\"Autoencoder + GMM Accuracy:\", round(acc_gmm, 4))\n",
    "\n",
    "acc_gmm = clustering_accuracy(labels_training, y_pred_pca)\n",
    "print(\"PCA + GMM Accuracy:\", round(acc_gmm, 4))\n"
   ]
  }
 ],
 "metadata": {
  "kernelspec": {
   "display_name": "Python 3 (ipykernel)",
   "language": "python",
   "name": "python3"
  },
  "language_info": {
   "codemirror_mode": {
    "name": "ipython",
    "version": 3
   },
   "file_extension": ".py",
   "mimetype": "text/x-python",
   "name": "python",
   "nbconvert_exporter": "python",
   "pygments_lexer": "ipython3",
   "version": "3.12.3"
  }
 },
 "nbformat": 4,
 "nbformat_minor": 5
}
