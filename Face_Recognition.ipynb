{
 "cells": [
  {
   "cell_type": "markdown",
   "id": "c3133516-4cf3-42e3-9f15-0805ed3be364",
   "metadata": {},
   "source": [
    "- [read data](#read-data)\n",
    "- [reshape data](#reshape-data)\n",
    "- [split data](#split-data)\n",
    "- [PCA](#PCA)\n",
    "- [K-Means Clustering](#K-Means-Clustering)\n",
    "- [KNN](#KNN)"
   ]
  },
  {
   "cell_type": "code",
   "execution_count": 1,
   "id": "6082f5ae-2a8f-4c4b-943d-5faac35b1e75",
   "metadata": {},
   "outputs": [],
   "source": [
    "import os\n",
    "import cv2\n",
    "import numpy as np\n",
    "import matplotlib.pyplot as plt\n",
    "from collections import Counter"
   ]
  },
  {
   "cell_type": "code",
   "execution_count": 2,
   "id": "3450013d-bab8-4523-bca0-87719462f70b",
   "metadata": {},
   "outputs": [],
   "source": [
    "dataset_path = 'data'"
   ]
  },
  {
   "cell_type": "markdown",
   "id": "2ab12f0f-6537-4358-934a-cc69b9351f9a",
   "metadata": {},
   "source": [
    "## read data"
   ]
  },
  {
   "cell_type": "code",
   "execution_count": 5,
   "id": "2f2cb346-08f3-46f2-b830-a69181f7d505",
   "metadata": {},
   "outputs": [],
   "source": [
    "images = []\n",
    "labels = []\n",
    "\n",
    "for label in range(1, 41):\n",
    "    person_path = os.path.join(dataset_path, f\"s{label}\")\n",
    "    for img_name in os.listdir(person_path):      # return list of the content of the dir like ls -l\n",
    "        img_path = os.path.join(person_path, img_name)\n",
    "        img = cv2.imread(img_path, cv2.IMREAD_GRAYSCALE)\n",
    "        images.append(img)\n",
    "        labels.append(label)   "
   ]
  },
  {
   "cell_type": "code",
   "execution_count": 6,
   "id": "795bcdf8-fff0-47ee-8305-104d3cce3f3b",
   "metadata": {},
   "outputs": [
    {
     "name": "stdout",
     "output_type": "stream",
     "text": [
      "Total images: 400\n",
      "Image shape: (112, 92)\n"
     ]
    }
   ],
   "source": [
    "images = np.array(images)\n",
    "labels = np.array(labels)\n",
    "\n",
    "print(\"Total images:\", len(images))\n",
    "print(\"Image shape:\", images[0].shape) "
   ]
  },
  {
   "cell_type": "markdown",
   "id": "fe5e5e68-b367-460c-910b-78b5b44083d3",
   "metadata": {},
   "source": [
    "## reshape data"
   ]
  },
  {
   "cell_type": "code",
   "execution_count": 9,
   "id": "2aa1c671-f23d-4d78-9b86-bd04799c9f24",
   "metadata": {},
   "outputs": [
    {
     "name": "stdout",
     "output_type": "stream",
     "text": [
      "Image shape: (400, 10304)\n",
      "[[ 48  49  45 ...  47  46  46]\n",
      " [ 34  34  33 ...  37  40  33]\n",
      " [ 60  60  62 ...  32  34  34]\n",
      " ...\n",
      " [129 127 133 ...  93  93  93]\n",
      " [125 119 124 ...  36  39  40]\n",
      " [119 120 120 ...  89  94  85]]\n"
     ]
    }
   ],
   "source": [
    "images = images.reshape(-1,10304)       # Flattens 2D images into 1D vectors for input \n",
    "print(\"Image shape:\", images.shape)\n",
    "print(images)"
   ]
  },
  {
   "cell_type": "markdown",
   "id": "2db699c4-2d63-406e-a464-6989a786bb0a",
   "metadata": {},
   "source": [
    "## split data"
   ]
  },
  {
   "cell_type": "code",
   "execution_count": 11,
   "id": "163c65dc-f1c5-4984-9aca-feb8bf14e58a",
   "metadata": {},
   "outputs": [],
   "source": [
    "images_training = []\n",
    "images_testing = []\n",
    "labels_training = []\n",
    "labels_testing = []\n",
    "\n",
    "for idx in range(400):\n",
    "    if idx%2==0:\n",
    "        images_testing.append(images[idx])\n",
    "        labels_testing.append(labels[idx])\n",
    "    else:\n",
    "        images_training.append(images[idx])\n",
    "        labels_training.append(labels[idx])"
   ]
  },
  {
   "cell_type": "code",
   "execution_count": 13,
   "id": "80566b70-b5d9-44e6-9a00-b08bf50e0ad8",
   "metadata": {},
   "outputs": [
    {
     "name": "stdout",
     "output_type": "stream",
     "text": [
      "Test images: 200\n",
      "Train images: 200\n",
      "Test labels: 200\n",
      "Train labels: 200\n"
     ]
    }
   ],
   "source": [
    "print(\"Test images:\", len(images_testing))\n",
    "print(\"Train images:\", len(images_training))\n",
    "\n",
    "print(\"Test labels:\", len(labels_testing))\n",
    "print(\"Train labels:\", len(labels_training))"
   ]
  },
  {
   "cell_type": "code",
   "execution_count": 15,
   "id": "b99a3f3a-acf4-467b-988d-0619a7af2e64",
   "metadata": {
    "scrolled": true
   },
   "outputs": [
    {
     "name": "stdout",
     "output_type": "stream",
     "text": [
      "[ 1  1  1  1  1  2  2  2  2  2  3  3  3  3  3  4  4  4  4  4  5  5  5  5\n",
      "  5  6  6  6  6  6  7  7  7  7  7  8  8  8  8  8  9  9  9  9  9 10 10 10\n",
      " 10 10 11 11 11 11 11 12 12 12 12 12 13 13 13 13 13 14 14 14 14 14 15 15\n",
      " 15 15 15 16 16 16 16 16 17 17 17 17 17 18 18 18 18 18 19 19 19 19 19 20\n",
      " 20 20 20 20 21 21 21 21 21 22 22 22 22 22 23 23 23 23 23 24 24 24 24 24\n",
      " 25 25 25 25 25 26 26 26 26 26 27 27 27 27 27 28 28 28 28 28 29 29 29 29\n",
      " 29 30 30 30 30 30 31 31 31 31 31 32 32 32 32 32 33 33 33 33 33 34 34 34\n",
      " 34 34 35 35 35 35 35 36 36 36 36 36 37 37 37 37 37 38 38 38 38 38 39 39\n",
      " 39 39 39 40 40 40 40 40]\n",
      "[ 1  1  1  1  1  2  2  2  2  2  3  3  3  3  3  4  4  4  4  4  5  5  5  5\n",
      "  5  6  6  6  6  6  7  7  7  7  7  8  8  8  8  8  9  9  9  9  9 10 10 10\n",
      " 10 10 11 11 11 11 11 12 12 12 12 12 13 13 13 13 13 14 14 14 14 14 15 15\n",
      " 15 15 15 16 16 16 16 16 17 17 17 17 17 18 18 18 18 18 19 19 19 19 19 20\n",
      " 20 20 20 20 21 21 21 21 21 22 22 22 22 22 23 23 23 23 23 24 24 24 24 24\n",
      " 25 25 25 25 25 26 26 26 26 26 27 27 27 27 27 28 28 28 28 28 29 29 29 29\n",
      " 29 30 30 30 30 30 31 31 31 31 31 32 32 32 32 32 33 33 33 33 33 34 34 34\n",
      " 34 34 35 35 35 35 35 36 36 36 36 36 37 37 37 37 37 38 38 38 38 38 39 39\n",
      " 39 39 39 40 40 40 40 40]\n"
     ]
    }
   ],
   "source": [
    "images_testing = np.array(images_testing)\n",
    "images_training = np.array(images_training)\n",
    "\n",
    "labels_testing = np.array(labels_testing)\n",
    "labels_training = np.array(labels_training)\n",
    "print(labels_testing)\n",
    "print(labels_training)"
   ]
  },
  {
   "cell_type": "markdown",
   "id": "9d01f32c-1bf9-4c3a-a049-f98ccfd05c91",
   "metadata": {},
   "source": [
    "## PCA"
   ]
  },
  {
   "cell_type": "code",
   "execution_count": 137,
   "id": "85357a92-33d0-4323-9281-b8d6ba1b40e4",
   "metadata": {},
   "outputs": [],
   "source": [
    "def calc_eigen(Data_centered):\n",
    "    cov_matrix = np.cov(Data_centered, rowvar=False)\n",
    "    eig_vals, eig_vecs = np.linalg.eigh(cov_matrix)\n",
    "    np.save(\"eigenvalues.npy\", eig_vals)\n",
    "    np.save(\"eigenvectors.npy\", eig_vecs)\n",
    "    \n",
    "class PCA:\n",
    "    def __init__(self):\n",
    "        self.variance_threshold = None\n",
    "        self.mean = None\n",
    "        self.components = None\n",
    "        self.explained_variance = None\n",
    "\n",
    "    def fit(self, X):\n",
    "        self.mean = np.mean(X, axis=0)\n",
    "        X_centered = X - self.mean\n",
    "\n",
    "        # calc_eigen(X_centered)\n",
    "        eig_vals = np.load('eigenvalues.npy')\n",
    "        eig_vecs = np.load('eigenvectors.npy')\n",
    "        \n",
    "        sorted_idx = np.argsort(eig_vals)[::-1]\n",
    "        eig_vals = eig_vals[sorted_idx]\n",
    "        eig_vecs = eig_vecs[:, sorted_idx]\n",
    "\n",
    "        explained_variance_ratio = eig_vals / np.sum(eig_vals)     # the ratio of each direction var\n",
    "        cumulative_variance = np.cumsum(explained_variance_ratio)        # explained_variance_ratio = [0.4, 0.3, 0.2, 0.1]  \n",
    "                                                                         # cumulative_variance = [0.4, 0.7, 0.9, 1]\n",
    "        \n",
    "        num_components = np.argmax(cum_var >= self.variance_threshold) + 1         # returns the first index where the cumulative variance ≥ alpha.\n",
    "        \n",
    "        self.components = eig_vecs[:, :num_components]       # Selects all rows, col[0:num_components]  \n",
    "        self.explained_variance = eig_vals[:num_components]\n",
    "\n",
    "    def transform(self, X):\n",
    "        X_centered = X - self.mean\n",
    "        return np.dot(X_centered, self.components)\n",
    "\n",
    "    def fit_transform(self, X, variance_threshold):\n",
    "        self.variance_threshold = variance_threshold\n",
    "        self.fit(X)\n",
    "        return self.transform(X)\n"
   ]
  },
  {
   "cell_type": "code",
   "execution_count": 135,
   "id": "bd44a516-4a56-4102-8f8c-4607b34c0f83",
   "metadata": {},
   "outputs": [
    {
     "name": "stdout",
     "output_type": "stream",
     "text": [
      "Original shape: (200, 10304)\n",
      "Alpha: 0.8 Reduced shape: (200, 36)\n",
      "Alpha: 0.85 Reduced shape: (200, 52)\n",
      "Alpha: 0.9 Reduced shape: (200, 76)\n",
      "Alpha: 0.95 Reduced shape: (200, 117)\n"
     ]
    }
   ],
   "source": [
    "alphas = [0.8, 0.85, 0.9, 0.95]\n",
    "pca = PCA()\n",
    "D_pcas={}\n",
    "print(f\"Original shape: {images_training.shape}\")\n",
    "\n",
    "for alpha in alphas:\n",
    "    D_pca = pca.fit_transform(images_training, alpha)\n",
    "    D_pcas[alpha] = D_pca\n",
    "    print(f\"Alpha: {alpha} Reduced shape: {D_pca.shape}\")\n"
   ]
  },
  {
   "cell_type": "markdown",
   "id": "764e6c5c-01d5-400a-b039-f5ad7182131a",
   "metadata": {},
   "source": [
    "## K-Means Clustering"
   ]
  },
  {
   "cell_type": "markdown",
   "id": "8d57a11c-5231-4556-81f3-8405f87aef71",
   "metadata": {},
   "source": [
    "## KNN"
   ]
  },
  {
   "cell_type": "code",
   "execution_count": null,
   "id": "1619d846-f5aa-4957-b346-eba8ff34507f",
   "metadata": {},
   "outputs": [],
   "source": [
    "def euclidean_distance(x1, x2):\n",
    "    distance = np.sqrt((x1-x2)**2)\n",
    "    return distance\n",
    "    \n",
    "class KNN:\n",
    "    def __init__(self, images_training, labels_training, k):\n",
    "        self.images_training = images_training\n",
    "        self.labels_training = labels_training\n",
    "        self.k = k\n",
    "    \n",
    "    def predict(self, imgs):\n",
    "        predictions = [self._predict(img) for img in imgs]\n",
    "        return predictions\n",
    "        \n",
    "    def _predict(self, img):\n",
    "        distances = [euclidean_distance(img, img_train) for img_train in self.images_training]\n",
    "        k_indicies = np.argsort(distances)[:self.k]             # return indicies of sorted array [4, 1, 3, 2] -> [1, 3, 2, 0]\n",
    "        k_nearest_labels = [self.labels_training[i] for i in k_indicies]\n",
    "        most_common = Counter(k_nearest_labels).most_common()\n",
    "        return most_common[0]\n"
   ]
  }
 ],
 "metadata": {
  "kernelspec": {
   "display_name": "Python 3 (ipykernel)",
   "language": "python",
   "name": "python3"
  },
  "language_info": {
   "codemirror_mode": {
    "name": "ipython",
    "version": 3
   },
   "file_extension": ".py",
   "mimetype": "text/x-python",
   "name": "python",
   "nbconvert_exporter": "python",
   "pygments_lexer": "ipython3",
   "version": "3.12.3"
  }
 },
 "nbformat": 4,
 "nbformat_minor": 5
}
